{
 "cells": [
  {
   "cell_type": "code",
   "execution_count": 19,
   "metadata": {
    "collapsed": true,
    "scrolled": true
   },
   "outputs": [],
   "source": [
    "import pylab\n",
    "import calendar\n",
    "import numpy as np\n",
    "import pandas as pd\n",
    "import seaborn as sns\n",
    "# from scipy import stats\n",
    "# import missingno as msno\n",
    "from datetime import datetime\n",
    "\n",
    "from sklearn.model_selection import train_test_split, cross_val_score\n",
    "from sklearn.model_selection import GridSearchCV\n",
    "from sklearn.metrics import confusion_matrix, classification_report\n",
    "from sklearn.metrics import accuracy_score\n",
    "from sklearn.pipeline import Pipeline, FeatureUnion\n",
    "from sklearn.tree import DecisionTreeClassifier\n",
    "\n",
    "import matplotlib.pyplot as plt\n",
    "import warnings\n",
    "# pd.options.mode.chained_assignment = None\n",
    "# warnings.filterwarnings(\"ignore\", category=DeprecationWarning)\n",
    "%matplotlib inline"
   ]
  },
  {
   "cell_type": "code",
   "execution_count": 20,
   "metadata": {},
   "outputs": [],
   "source": [
    "# from sklearn.preprocessing import MinMaxScaler\n",
    "# from sklearn.preprocessing import minmax_scale\n",
    "# from sklearn.preprocessing import MaxAbsScaler\n",
    "from sklearn.preprocessing import StandardScaler\n",
    "from sklearn.preprocessing import RobustScaler\n",
    "from sklearn.preprocessing import Normalizer\n",
    "from sklearn import preprocessing as skp \n",
    "from sklearn.preprocessing.data import QuantileTransformer\n",
    "from sklearn.preprocessing import FunctionTransformer\n",
    "import xgboost as xg\n",
    "from sklearn.linear_model import LogisticRegression\n",
    "\n"
   ]
  },
  {
   "cell_type": "markdown",
   "metadata": {},
   "source": [
    "# Kaggle's Bike Sharing Demand "
   ]
  },
  {
   "cell_type": "markdown",
   "metadata": {},
   "source": [
    "## Overview"
   ]
  },
  {
   "cell_type": "markdown",
   "metadata": {},
   "source": [
    "## Introduction\n",
    "\n",
    "### Original Features\n",
    "- datetime - hourly date + timestamp  \n",
    "- season - \n",
    "    - 1 = spring\n",
    "    - 2 = summer\n",
    "    - 3 = fall \n",
    "    - 4 = winter \n",
    "- holiday - whether the day is considered a holiday\n",
    "- workingday - whether the day is neither a weekend nor holiday\n",
    "- weather\n",
    "    - 1: Clear, Few clouds, Partly cloudy, Partly cloudy \n",
    "    - 2: Mist + Cloudy, Mist + Broken clouds, Mist + Few clouds, Mist \n",
    "    - 3: Light Snow, Light Rain + Thunderstorm + Scattered clouds, Light Rain + Scattered clouds \n",
    "    - 4: Heavy Rain + Ice Pallets + Thunderstorm + Mist, Snow + Fog \n",
    "- temp - temperature in Celsius\n",
    "- atemp - \"feels like\" temperature in Celsius\n",
    "- humidity - relative humidity\n",
    "- windspeed - wind speed\n",
    "- casual - number of non-registered user rentals initiated\n",
    "- registered - number of registered user rentals initiated\n",
    "- count - number of total rentals"
   ]
  },
  {
   "cell_type": "markdown",
   "metadata": {
    "collapsed": true
   },
   "source": [
    "## Basic Analysis\n",
    "* histogram the data\n",
    "* create feature correlation heatmap\n",
    "* add time features (year,year-month,month,week_number,day_of_week,day,hour)\n",
    "* use log transformer \n",
    "* test increase demand year-over-year, month-over-month,\n",
    "\n",
    "## Feature Ingeneering\n",
    "* use desicision tree to convert hours into bins\n",
    "* use desicision tree to convert temps into bins\n",
    "* create dummy variables\n",
    "* seperate data to casual and registered\n",
    "\n",
    "\n",
    "\n",
    "### Sources\n",
    "our challange:\n",
    "* https://www.analyticsvidhya.com/blog/2015/06/solution-kaggle-competition-bike-sharing-demand/\n",
    "* https://www.kaggle.com/viveksrinivasan/eda-ensemble-model-top-10-percentile\n",
    "* https://www.kaggle.com/miteshyadav/comprehensive-eda-with-xgboost-top-10-percentile\n",
    "\n",
    "How to use XGBoost:\n",
    "* For Dummies - https://machinelearningmastery.com/develop-first-xgboost-model-python-scikit-learn/\n",
    "* http://nbviewer.jupyter.org/github/jmsteinw/Notebooks/blob/master/XG_Boost_NB.ipynb\n",
    "* https://github.com/dmlc/xgboost/blob/master/doc/parameter.md\n",
    "\n",
    "\n",
    "Trasnformers for inbalanced data:\n",
    "http://scikit-learn.org/stable/auto_examples/preprocessing/plot_all_scaling.html\n"
   ]
  },
  {
   "cell_type": "markdown",
   "metadata": {},
   "source": [
    "# Get the data\n",
    "\n"
   ]
  },
  {
   "cell_type": "code",
   "execution_count": 21,
   "metadata": {
    "scrolled": true
   },
   "outputs": [
    {
     "data": {
      "text/plain": [
       "Index(['datetime', 'season', 'holiday', 'workingday', 'weather', 'temp',\n",
       "       'atemp', 'humidity', 'windspeed', 'casual', 'registered', 'count'],\n",
       "      dtype='object')"
      ]
     },
     "execution_count": 21,
     "metadata": {},
     "output_type": "execute_result"
    }
   ],
   "source": [
    "ods_bike_raw = pd.read_csv('C:\\\\Users\\\\Roy\\\\Dropbox\\\\GitHub\\\\Final Project\\\\source_files\\\\train.csv')\n",
    "# ods_bike_raw = pd.read_csv('C:\\\\Users\\\\roy.leiser\\\\Dropbox\\\\GitHub\\\\Final Project\\\\source_files\\\\train.csv')\n",
    "ods_bike = ods_bike_raw.copy()\n",
    "ods_bike.columns"
   ]
  },
  {
   "cell_type": "code",
   "execution_count": 22,
   "metadata": {
    "collapsed": true
   },
   "outputs": [],
   "source": [
    "target_columns = ['casual', 'registered', 'count']"
   ]
  },
  {
   "cell_type": "markdown",
   "metadata": {},
   "source": [
    "# Feature Engineering \n",
    "\n"
   ]
  },
  {
   "cell_type": "code",
   "execution_count": 23,
   "metadata": {
    "collapsed": true,
    "scrolled": false
   },
   "outputs": [],
   "source": [
    "def round_fractions(data):\n",
    "    data['atemp_round'] = data['atemp'].apply(round)\n",
    "    data['temp_round'] = data['temp'].apply(round)\n",
    "    data['windspeed_round'] = data['windspeed'].apply(round)"
   ]
  },
  {
   "cell_type": "code",
   "execution_count": 24,
   "metadata": {
    "collapsed": true
   },
   "outputs": [],
   "source": [
    "def get_fractions(df):\n",
    "    return df[['temp','atemp','windspeed']]"
   ]
  },
  {
   "cell_type": "code",
   "execution_count": 25,
   "metadata": {
    "collapsed": true,
    "scrolled": true
   },
   "outputs": [],
   "source": [
    "def add_time_measures(df):\n",
    "#     Convert df.datetime to datetime:\n",
    "    try:\n",
    "        df['datetime']=df['datetime'].apply(lambda x:datetime.strptime(x,'%Y-%m-%d %H:%M:%S'))\n",
    "    except TypeError:\n",
    "        pass\n",
    "#     add various time measures:\n",
    "    df['year'] = df['datetime'].apply(lambda x: x.date().year)\n",
    "    df['month'] = df['datetime'].apply(lambda x: x.date().month)\n",
    "    df['weekday'] = df['datetime'].apply(lambda x: x.date().weekday())\n",
    "    df['day'] = df['datetime'].apply(lambda x: x.date().day)\n",
    "    df['hour'] = df['datetime'].apply(lambda x: x.time().hour)   "
   ]
  },
  {
   "cell_type": "code",
   "execution_count": 26,
   "metadata": {
    "collapsed": true
   },
   "outputs": [],
   "source": [
    "def drop_dateime(df):\n",
    "    del df['datetime']"
   ]
  },
  {
   "cell_type": "code",
   "execution_count": 27,
   "metadata": {
    "collapsed": true
   },
   "outputs": [],
   "source": [
    "drop_dateime_transformer = FunctionTransformer(func=drop_dateime, validate=False)\n",
    "add_time_measures_transformer = FunctionTransformer(func=add_time_measures, validate=False)\n",
    "get_fractions_transformer = FunctionTransformer(func=get_fractions, validate=False)\n",
    "round_transformer = FunctionTransformer(func=round, validate=False)\n",
    "\n",
    "fraction_pipeline = Pipeline([('get_fractions_transformer',get_fractions_transformer),('round_transformer',round_transformer)])"
   ]
  },
  {
   "cell_type": "code",
   "execution_count": 28,
   "metadata": {
    "collapsed": true
   },
   "outputs": [],
   "source": [
    "def add_is_weekend(df):\n",
    "    df['is_weekend'] = df['weekday'].apply(lambda x: 1 if x in [0,1] else 0)    \n",
    "# True if x % 2 == 0 else False\n",
    "    \n",
    "add_is_weekend_transformer = FunctionTransformer(func=add_is_weekend, validate=False)"
   ]
  },
  {
   "cell_type": "code",
   "execution_count": 29,
   "metadata": {
    "collapsed": true,
    "scrolled": false
   },
   "outputs": [],
   "source": [
    "def remove_windspeed_outliers(df):\n",
    "        df['windspeed'] = df['windspeed'].apply(lambda x: x if x < 40 else 40)\n",
    "        df['windspeed_round'] = df['windspeed_round'].apply(lambda x: x if x < 40 else 40)\n",
    "        \n",
    "remove_windspeed_outliers_transformer = FunctionTransformer(func=remove_windspeed_outliers, validate=False)"
   ]
  },
  {
   "cell_type": "code",
   "execution_count": 30,
   "metadata": {
    "collapsed": true
   },
   "outputs": [],
   "source": [
    "def convert_to_single_target_column(df):\n",
    "    df_casual = df.copy()\n",
    "    df_casual['is_casual'] = 1\n",
    "    df_casual['target'] = df_casual['casual']\n",
    "    df_casual.drop(['registered','casual','count'], axis=1, inplace=True)\n",
    "    \n",
    "    df_registered = df.copy()\n",
    "    df_registered['is_casual'] = 0\n",
    "    df_registered['target'] = df_registered['registered']\n",
    "    df_registered.drop(['registered','casual','count'], axis=1, inplace=True)\n",
    "    \n",
    "    return pd.concat([df_casual,df_registered],ignore_index=True)\n",
    "    "
   ]
  },
  {
   "cell_type": "code",
   "execution_count": 31,
   "metadata": {
    "collapsed": true
   },
   "outputs": [],
   "source": [
    "def convert_to_triple_target_column(df):\n",
    "    df_casual = df[df.is_casual == 1].copy()\n",
    "    df_casual['casual'] = df_casual['target']\n",
    "    df_casual.drop(['target','is_casual'], axis=1, inplace=True)\n",
    "    \n",
    "    df_registered = df[df.is_casual == 0].copy()\n",
    "    df_registered['registered'] = df_registered['target']\n",
    "    df_registered.drop(['target','is_casual'], axis=1, inplace=True)\n",
    "    \n",
    "    df_new = pd.merge(df_casual,df_registered,on= ['datetime', 'season', 'holiday', 'workingday', 'weather', 'temp',\n",
    "       'atemp', 'humidity', 'windspeed'])\n",
    "    df_new['count'] = df_new['casual'] + df_new['registered']\n",
    "     \n",
    "    return df_new"
   ]
  },
  {
   "cell_type": "code",
   "execution_count": 32,
   "metadata": {},
   "outputs": [
    {
     "data": {
      "text/html": [
       "<div>\n",
       "<style>\n",
       "    .dataframe thead tr:only-child th {\n",
       "        text-align: right;\n",
       "    }\n",
       "\n",
       "    .dataframe thead th {\n",
       "        text-align: left;\n",
       "    }\n",
       "\n",
       "    .dataframe tbody tr th {\n",
       "        vertical-align: top;\n",
       "    }\n",
       "</style>\n",
       "<table border=\"1\" class=\"dataframe\">\n",
       "  <thead>\n",
       "    <tr style=\"text-align: right;\">\n",
       "      <th></th>\n",
       "      <th>datetime</th>\n",
       "      <th>season</th>\n",
       "      <th>holiday</th>\n",
       "      <th>workingday</th>\n",
       "      <th>weather</th>\n",
       "      <th>temp</th>\n",
       "      <th>atemp</th>\n",
       "      <th>humidity</th>\n",
       "      <th>windspeed</th>\n",
       "      <th>casual</th>\n",
       "      <th>registered</th>\n",
       "      <th>count</th>\n",
       "    </tr>\n",
       "  </thead>\n",
       "  <tbody>\n",
       "    <tr>\n",
       "      <th>0</th>\n",
       "      <td>2011-01-01 00:00:00</td>\n",
       "      <td>1</td>\n",
       "      <td>0</td>\n",
       "      <td>0</td>\n",
       "      <td>1</td>\n",
       "      <td>9.84</td>\n",
       "      <td>14.395</td>\n",
       "      <td>81</td>\n",
       "      <td>0.0</td>\n",
       "      <td>3</td>\n",
       "      <td>13</td>\n",
       "      <td>16</td>\n",
       "    </tr>\n",
       "    <tr>\n",
       "      <th>1</th>\n",
       "      <td>2011-01-01 01:00:00</td>\n",
       "      <td>1</td>\n",
       "      <td>0</td>\n",
       "      <td>0</td>\n",
       "      <td>1</td>\n",
       "      <td>9.02</td>\n",
       "      <td>13.635</td>\n",
       "      <td>80</td>\n",
       "      <td>0.0</td>\n",
       "      <td>8</td>\n",
       "      <td>32</td>\n",
       "      <td>40</td>\n",
       "    </tr>\n",
       "    <tr>\n",
       "      <th>2</th>\n",
       "      <td>2011-01-01 02:00:00</td>\n",
       "      <td>1</td>\n",
       "      <td>0</td>\n",
       "      <td>0</td>\n",
       "      <td>1</td>\n",
       "      <td>9.02</td>\n",
       "      <td>13.635</td>\n",
       "      <td>80</td>\n",
       "      <td>0.0</td>\n",
       "      <td>5</td>\n",
       "      <td>27</td>\n",
       "      <td>32</td>\n",
       "    </tr>\n",
       "    <tr>\n",
       "      <th>3</th>\n",
       "      <td>2011-01-01 03:00:00</td>\n",
       "      <td>1</td>\n",
       "      <td>0</td>\n",
       "      <td>0</td>\n",
       "      <td>1</td>\n",
       "      <td>9.84</td>\n",
       "      <td>14.395</td>\n",
       "      <td>75</td>\n",
       "      <td>0.0</td>\n",
       "      <td>3</td>\n",
       "      <td>10</td>\n",
       "      <td>13</td>\n",
       "    </tr>\n",
       "    <tr>\n",
       "      <th>4</th>\n",
       "      <td>2011-01-01 04:00:00</td>\n",
       "      <td>1</td>\n",
       "      <td>0</td>\n",
       "      <td>0</td>\n",
       "      <td>1</td>\n",
       "      <td>9.84</td>\n",
       "      <td>14.395</td>\n",
       "      <td>75</td>\n",
       "      <td>0.0</td>\n",
       "      <td>0</td>\n",
       "      <td>1</td>\n",
       "      <td>1</td>\n",
       "    </tr>\n",
       "  </tbody>\n",
       "</table>\n",
       "</div>"
      ],
      "text/plain": [
       "              datetime  season  holiday  workingday  weather  temp   atemp  \\\n",
       "0  2011-01-01 00:00:00       1        0           0        1  9.84  14.395   \n",
       "1  2011-01-01 01:00:00       1        0           0        1  9.02  13.635   \n",
       "2  2011-01-01 02:00:00       1        0           0        1  9.02  13.635   \n",
       "3  2011-01-01 03:00:00       1        0           0        1  9.84  14.395   \n",
       "4  2011-01-01 04:00:00       1        0           0        1  9.84  14.395   \n",
       "\n",
       "   humidity  windspeed  casual  registered  count  \n",
       "0        81        0.0       3          13     16  \n",
       "1        80        0.0       8          32     40  \n",
       "2        80        0.0       5          27     32  \n",
       "3        75        0.0       3          10     13  \n",
       "4        75        0.0       0           1      1  "
      ]
     },
     "execution_count": 32,
     "metadata": {},
     "output_type": "execute_result"
    }
   ],
   "source": [
    "tmp_ods_bike = ods_bike.copy()\n",
    "tmp_ods_bike.head()"
   ]
  },
  {
   "cell_type": "code",
   "execution_count": 33,
   "metadata": {
    "collapsed": true
   },
   "outputs": [],
   "source": [
    "# def get_target_cols(df):\n",
    "#     return df[['casual', 'registered', 'count']]\n",
    "\n",
    "# targets_selector = FunctionTransformer(func=get_target_cols, validate=False)"
   ]
  },
  {
   "cell_type": "code",
   "execution_count": 34,
   "metadata": {
    "collapsed": true
   },
   "outputs": [],
   "source": [
    "log1p_transformer = FunctionTransformer(np.log1p)                                   \n",
    "quant_transformer = QuantileTransformer(output_distribution='normal')\n",
    "robust_transformer = RobustScaler()\n",
    "norm_transformer = Normalizer()\n",
    "\n"
   ]
  },
  {
   "cell_type": "markdown",
   "metadata": {},
   "source": [
    "\n",
    "## Converting Hour to bins in dummy variables?"
   ]
  },
  {
   "cell_type": "markdown",
   "metadata": {},
   "source": [
    "# Model Preperations\n",
    "### RMSLE Scorer"
   ]
  },
  {
   "cell_type": "code",
   "execution_count": 35,
   "metadata": {
    "collapsed": true
   },
   "outputs": [],
   "source": [
    "def rmsle(y_test, y_pred): \n",
    "    return np.sqrt(np.square(np.log(y_test + 1) - np.log(y_pred + 1)).mean())"
   ]
  },
  {
   "cell_type": "markdown",
   "metadata": {},
   "source": [
    "# Model Preperations\n",
    "### Define Classifiers"
   ]
  },
  {
   "cell_type": "code",
   "execution_count": 36,
   "metadata": {
    "collapsed": true
   },
   "outputs": [],
   "source": [
    "# Define classifiers\n",
    "clf_LR = LogisticRegression()\n",
    "clf_DT = DecisionTreeClassifier(max_depth=300,\n",
    "                                min_samples_split=10,\n",
    "                                min_samples_leaf=10)\n",
    "clf_XGR = xg.XGBRegressor()\n",
    "clf_XGC = xg.XGBClassifier()"
   ]
  },
  {
   "cell_type": "markdown",
   "metadata": {},
   "source": [
    "# The Model\n",
    "### Preparing the data"
   ]
  },
  {
   "cell_type": "code",
   "execution_count": 37,
   "metadata": {
    "collapsed": true
   },
   "outputs": [],
   "source": [
    "# duplicate the dataset:\n",
    "dwh_bike = ods_bike.copy()\n",
    "\n",
    "# dwh_bike.head(2)"
   ]
  },
  {
   "cell_type": "code",
   "execution_count": 38,
   "metadata": {
    "collapsed": true
   },
   "outputs": [],
   "source": [
    "dwh_bike = convert_to_single_target_column(dwh_bike)\n",
    "# dwh_bike.head()"
   ]
  },
  {
   "cell_type": "code",
   "execution_count": 39,
   "metadata": {
    "collapsed": true
   },
   "outputs": [],
   "source": [
    "round_fractions(dwh_bike)\n",
    "add_time_measures(dwh_bike)\n",
    "drop_dateime(dwh_bike)\n",
    "remove_windspeed_outliers(dwh_bike)\n",
    "# dwh_bike.head(2)"
   ]
  },
  {
   "cell_type": "code",
   "execution_count": 40,
   "metadata": {},
   "outputs": [
    {
     "data": {
      "text/html": [
       "<div>\n",
       "<style>\n",
       "    .dataframe thead tr:only-child th {\n",
       "        text-align: right;\n",
       "    }\n",
       "\n",
       "    .dataframe thead th {\n",
       "        text-align: left;\n",
       "    }\n",
       "\n",
       "    .dataframe tbody tr th {\n",
       "        vertical-align: top;\n",
       "    }\n",
       "</style>\n",
       "<table border=\"1\" class=\"dataframe\">\n",
       "  <thead>\n",
       "    <tr style=\"text-align: right;\">\n",
       "      <th></th>\n",
       "      <th>season</th>\n",
       "      <th>holiday</th>\n",
       "      <th>workingday</th>\n",
       "      <th>weather</th>\n",
       "      <th>temp</th>\n",
       "      <th>atemp</th>\n",
       "      <th>humidity</th>\n",
       "      <th>windspeed</th>\n",
       "      <th>is_casual</th>\n",
       "      <th>target</th>\n",
       "      <th>atemp_round</th>\n",
       "      <th>temp_round</th>\n",
       "      <th>windspeed_round</th>\n",
       "      <th>year</th>\n",
       "      <th>month</th>\n",
       "      <th>weekday</th>\n",
       "      <th>day</th>\n",
       "      <th>hour</th>\n",
       "    </tr>\n",
       "  </thead>\n",
       "  <tbody>\n",
       "    <tr>\n",
       "      <th>0</th>\n",
       "      <td>1</td>\n",
       "      <td>0</td>\n",
       "      <td>0</td>\n",
       "      <td>1</td>\n",
       "      <td>9.84</td>\n",
       "      <td>14.395</td>\n",
       "      <td>81</td>\n",
       "      <td>0.0</td>\n",
       "      <td>1</td>\n",
       "      <td>1.386294</td>\n",
       "      <td>14</td>\n",
       "      <td>10</td>\n",
       "      <td>0</td>\n",
       "      <td>2011</td>\n",
       "      <td>1</td>\n",
       "      <td>5</td>\n",
       "      <td>1</td>\n",
       "      <td>0</td>\n",
       "    </tr>\n",
       "    <tr>\n",
       "      <th>1</th>\n",
       "      <td>1</td>\n",
       "      <td>0</td>\n",
       "      <td>0</td>\n",
       "      <td>1</td>\n",
       "      <td>9.02</td>\n",
       "      <td>13.635</td>\n",
       "      <td>80</td>\n",
       "      <td>0.0</td>\n",
       "      <td>1</td>\n",
       "      <td>2.197225</td>\n",
       "      <td>14</td>\n",
       "      <td>9</td>\n",
       "      <td>0</td>\n",
       "      <td>2011</td>\n",
       "      <td>1</td>\n",
       "      <td>5</td>\n",
       "      <td>1</td>\n",
       "      <td>1</td>\n",
       "    </tr>\n",
       "  </tbody>\n",
       "</table>\n",
       "</div>"
      ],
      "text/plain": [
       "   season  holiday  workingday  weather  temp   atemp  humidity  windspeed  \\\n",
       "0       1        0           0        1  9.84  14.395        81        0.0   \n",
       "1       1        0           0        1  9.02  13.635        80        0.0   \n",
       "\n",
       "   is_casual    target  atemp_round  temp_round  windspeed_round  year  month  \\\n",
       "0          1  1.386294           14          10                0  2011      1   \n",
       "1          1  2.197225           14           9                0  2011      1   \n",
       "\n",
       "   weekday  day  hour  \n",
       "0        5    1     0  \n",
       "1        5    1     1  "
      ]
     },
     "execution_count": 40,
     "metadata": {},
     "output_type": "execute_result"
    }
   ],
   "source": [
    "# apply log1p on target variables.\n",
    "# dwh_bike[target_columns] = quant_transformer.fit_transform(dwh_bike[target_columns])\n",
    "# dwh_bike[target_columns] = log1p_transformer.fit_transform(dwh_bike[target_columns])\n",
    "dwh_bike['target'] = dwh_bike['target'].apply(np.log1p)\n",
    "dwh_bike.head(2)"
   ]
  },
  {
   "cell_type": "markdown",
   "metadata": {},
   "source": [
    "# Run the model"
   ]
  },
  {
   "cell_type": "code",
   "execution_count": 41,
   "metadata": {
    "collapsed": true
   },
   "outputs": [],
   "source": [
    "# Split the data\n",
    "X = dwh_bike.drop('target',axis=1)\n",
    "# y = dwh_bike['count']\n",
    "y = dwh_bike['target']\n",
    "X_train, X_test, y_train, y_test = train_test_split(X, y, test_size=0.2, random_state=0)\n"
   ]
  },
  {
   "cell_type": "code",
   "execution_count": 42,
   "metadata": {
    "collapsed": true
   },
   "outputs": [],
   "source": [
    "full_pipeline = Pipeline([\n",
    "#                        ('add_time_measures',add_time_measures_transformer),\n",
    "#                        ('drop_dateime',drop_dateime_transformer),\n",
    "#                        ('is_weekend',add_is_weekend_transformer)\n",
    "                         ('XGRegressor',clf_XGR)\n",
    "                        ])"
   ]
  },
  {
   "cell_type": "code",
   "execution_count": 43,
   "metadata": {},
   "outputs": [
    {
     "name": "stdout",
     "output_type": "stream",
     "text": [
      "Scores : 0.901 0.889 0.894 0.890 0.897 \n",
      "Average: 0.894302588426\n"
     ]
    }
   ],
   "source": [
    "# Cross Validation \n",
    "k = 5\n",
    "scores = cross_val_score(full_pipeline,X_train, y_train, cv=k)\n",
    "\n",
    "print (\"Scores : \" + (k * \"{:.3f} \").format(*scores))\n",
    "print (\"Average:\", scores.mean())"
   ]
  },
  {
   "cell_type": "code",
   "execution_count": 44,
   "metadata": {
    "collapsed": true
   },
   "outputs": [],
   "source": [
    "full_pipeline.fit(X_train,y_train)\n",
    "y_pred = full_pipeline.predict(X_test)"
   ]
  },
  {
   "cell_type": "code",
   "execution_count": 45,
   "metadata": {},
   "outputs": [
    {
     "name": "stderr",
     "output_type": "stream",
     "text": [
      "C:\\ProgramData\\Anaconda3\\lib\\site-packages\\ipykernel_launcher.py:2: SettingWithCopyWarning: \n",
      "A value is trying to be set on a copy of a slice from a DataFrame.\n",
      "Try using .loc[row_indexer,col_indexer] = value instead\n",
      "\n",
      "See the caveats in the documentation: http://pandas.pydata.org/pandas-docs/stable/indexing.html#indexing-view-versus-copy\n",
      "  \n",
      "C:\\ProgramData\\Anaconda3\\lib\\site-packages\\ipykernel_launcher.py:3: SettingWithCopyWarning: \n",
      "A value is trying to be set on a copy of a slice from a DataFrame.\n",
      "Try using .loc[row_indexer,col_indexer] = value instead\n",
      "\n",
      "See the caveats in the documentation: http://pandas.pydata.org/pandas-docs/stable/indexing.html#indexing-view-versus-copy\n",
      "  This is separate from the ipykernel package so we can avoid doing imports until\n"
     ]
    }
   ],
   "source": [
    "\n",
    "X_test['target'] = y_pred\n",
    "X_test['datetime'] = pd.to_datetime(X_test[['year', 'month', 'day', 'hour']])\n",
    "X_test = convert_to_triple_target_column(X_test)\n",
    "y_pred_new = X_test['count']"
   ]
  },
  {
   "cell_type": "code",
   "execution_count": 46,
   "metadata": {},
   "outputs": [
    {
     "data": {
      "text/plain": [
       "6.531580318055231"
      ]
     },
     "execution_count": 46,
     "metadata": {},
     "output_type": "execute_result"
    }
   ],
   "source": [
    "rmsle(np.expm1(y_test),np.expm1(y_pred_new))"
   ]
  },
  {
   "cell_type": "code",
   "execution_count": 47,
   "metadata": {},
   "outputs": [
    {
     "data": {
      "text/plain": [
       "<matplotlib.axes._subplots.AxesSubplot at 0x69ab898>"
      ]
     },
     "execution_count": 47,
     "metadata": {},
     "output_type": "execute_result"
    },
    {
     "data": {
      "image/png": "[encoded data removed]",
      "text/plain": [
       "<matplotlib.figure.Figure at 0x75984a8>"
      ]
     },
     "metadata": {},
     "output_type": "display_data"
    }
   ],
   "source": [
    "plt.style.use('ggplot') \n",
    "xg.plot_importance(clf_XGR)\n",
    "\n",
    "# # plt.style.use('ggplot') \n",
    "# xgb.plot_importance(bst) \n",
    "\n",
    "# xgb.to_graphviz(clf_XGR, num_trees=2)\n",
    "\n",
    "    "
   ]
  },
  {
   "cell_type": "code",
   "execution_count": null,
   "metadata": {
    "collapsed": true
   },
   "outputs": [],
   "source": []
  }
 ],
 "metadata": {
  "kernelspec": {
   "display_name": "Python 3",
   "language": "python",
   "name": "python3"
  },
  "language_info": {
   "codemirror_mode": {
    "name": "ipython",
    "version": 3
   },
   "file_extension": ".py",
   "mimetype": "text/x-python",
   "name": "python",
   "nbconvert_exporter": "python",
   "pygments_lexer": "ipython3",
   "version": "3.6.3"
  }
 },
 "nbformat": 4,
 "nbformat_minor": 2
}
